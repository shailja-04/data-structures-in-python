{
 "cells": [
  {
   "cell_type": "code",
   "execution_count": 8,
   "id": "1c856ab7-eca0-418f-8fcf-6607d441ca88",
   "metadata": {},
   "outputs": [
    {
     "data": {
      "text/plain": [
       "'ajliahs si siht ,olleH'"
      ]
     },
     "execution_count": 8,
     "metadata": {},
     "output_type": "execute_result"
    }
   ],
   "source": [
    "#1 Write code to reverse string\n",
    "str1=\"Hello, this is shailja\"\n",
    "rev=str1[::-1]\n",
    "rev"
   ]
  },
  {
   "cell_type": "code",
   "execution_count": 27,
   "id": "4a44019a-718f-4cf3-8afa-3956a7b0c524",
   "metadata": {},
   "outputs": [
    {
     "name": "stdout",
     "output_type": "stream",
     "text": [
      "THE NUMBER OF VOWELS: 5\n"
     ]
    }
   ],
   "source": [
    "#2 Write code to ccunt the number of vowel in a string\n",
    "str2=\"education\"\n",
    "vowels=0\n",
    "for i in str2:\n",
    "    if (i=='a' or i=='e'or i=='i' or i=='o' or i=='u'):\n",
    "        vowels+=1\n",
    "print(\"THE NUMBER OF VOWELS:\",vowels)"
   ]
  },
  {
   "cell_type": "code",
   "execution_count": 1,
   "id": "331b864e-3cc2-4f86-8f5a-68be8e513029",
   "metadata": {},
   "outputs": [
    {
     "name": "stdin",
     "output_type": "stream",
     "text": [
      "Enter the string: mom\n"
     ]
    },
    {
     "name": "stdout",
     "output_type": "stream",
     "text": [
      "Palindrome String\n"
     ]
    }
   ],
   "source": [
    "#Write code to check if a given string is a palindrome or not\n",
    "str3=input(\"Enter the string:\")\n",
    "rev=str3[::-1]\n",
    "if (str3==rev):\n",
    "    print(\"Palindrome String\")\n",
    "else:\n",
    "    print(\"Not a Palindrome String\")"
   ]
  },
  {
   "cell_type": "code",
   "execution_count": 50,
   "id": "acbe1ced-dab8-462b-a645-b7552dc79a16",
   "metadata": {},
   "outputs": [
    {
     "name": "stdin",
     "output_type": "stream",
     "text": [
      "Enter the 1st string: eat\n",
      "Enter the 2nd string: tea\n"
     ]
    },
    {
     "name": "stdout",
     "output_type": "stream",
     "text": [
      "anagrams string\n"
     ]
    }
   ],
   "source": [
    "#Write code to check if two given string are an anagrams of each other\n",
    "str4=input(\"Enter the 1st string:\")\n",
    "str5=input(\"Enter the 2nd string:\")\n",
    "if(len(str5)==len(str5)):\n",
    "    sort_str4=sorted(str4)\n",
    "    sort_str5=sorted(str5)\n",
    "if(sort_str4==sort_str5):\n",
    "    print(\"anagrams string\")\n",
    "else:\n",
    "    print(\"not a anagrams string\")"
   ]
  },
  {
   "cell_type": "code",
   "execution_count": 11,
   "id": "352895f0-777e-4ae3-b952-1d31fa72f9e1",
   "metadata": {},
   "outputs": [
    {
     "name": "stdout",
     "output_type": "stream",
     "text": [
      "The occurence of 'ab' in string1: 3\n"
     ]
    }
   ],
   "source": [
    "#Write a code to find all occurrence of a given substring within another string\n",
    "string1=\"ababcdeab\"\n",
    "substring=\"ab\"\n",
    "count1=string1.count(substring)\n",
    "print(\"The occurence of 'ab' in string1:\",count1)"
   ]
  },
  {
   "cell_type": "code",
   "execution_count": null,
   "id": "245f4340-2f4c-40ec-b304-896a78c0ec3d",
   "metadata": {},
   "outputs": [],
   "source": [
    "#Write a code to perform  basic string compression using the counts of repeated characters.\n",
    "\n",
    "str_=\"Tommorow is monday\"\n"
   ]
  },
  {
   "cell_type": "code",
   "execution_count": 2,
   "id": "1ec195cd-198f-44fc-b799-3ff6df089500",
   "metadata": {},
   "outputs": [],
   "source": [
    "#Write a code to determine if a string has all unique character\n",
    "Str=\"embaresment\"\n",
    "\n"
   ]
  },
  {
   "cell_type": "code",
   "execution_count": 6,
   "id": "7bf3f441-d1d3-466c-8d52-038428357d6f",
   "metadata": {},
   "outputs": [
    {
     "data": {
      "text/plain": [
       "'DATA ANALYST'"
      ]
     },
     "execution_count": 6,
     "metadata": {},
     "output_type": "execute_result"
    }
   ],
   "source": [
    "#Write a code to convert a given string to uppercase or lowercase\n",
    "str_1=\"Data analyst\"\n",
    "str_1.upper()\n"
   ]
  },
  {
   "cell_type": "code",
   "execution_count": 7,
   "id": "91307ee8-a05d-4bbe-903b-16f84f1d998f",
   "metadata": {},
   "outputs": [
    {
     "data": {
      "text/plain": [
       "'data analyst'"
      ]
     },
     "execution_count": 7,
     "metadata": {},
     "output_type": "execute_result"
    }
   ],
   "source": [
    "str_1.lower()"
   ]
  },
  {
   "cell_type": "code",
   "execution_count": 8,
   "id": "33c9b282-ad48-4400-876f-740201d609d1",
   "metadata": {},
   "outputs": [
    {
     "data": {
      "text/plain": [
       "7"
      ]
     },
     "execution_count": 8,
     "metadata": {},
     "output_type": "execute_result"
    }
   ],
   "source": [
    "# Write a code to count the number of words in a string\n",
    "str_2=\"hello Everyone, how are you all ?\"\n",
    "word_count=str_2.count(\" \") +1\n",
    "word_count\n"
   ]
  },
  {
   "cell_type": "code",
   "execution_count": 15,
   "id": "04e22fd8-a8d2-4792-a500-e5b0bdd591be",
   "metadata": {},
   "outputs": [
    {
     "name": "stdout",
     "output_type": "stream",
     "text": [
      "hello world\n"
     ]
    }
   ],
   "source": [
    "#Write  a code to concatenate two strings without using the + operator\n",
    "str_3=\"hello\"\n",
    "str_4=\"world\"\n",
    "print(str_3,str_4)"
   ]
  },
  {
   "cell_type": "code",
   "execution_count": 45,
   "id": "c7d52bb5-1d04-458c-b2a5-c67d80c47e4c",
   "metadata": {},
   "outputs": [],
   "source": [
    "#Write  a code to revome all occurrenes of a specific element from a list\n",
    "\n",
    "list0=[1,6,7,1,4,6,7,8,0,7]\n"
   ]
  },
  {
   "cell_type": "code",
   "execution_count": 33,
   "id": "ceaf390c-a74f-4d6f-823e-a8a347b2139e",
   "metadata": {},
   "outputs": [
    {
     "name": "stdout",
     "output_type": "stream",
     "text": [
      "second largest number: 88\n"
     ]
    }
   ],
   "source": [
    "# Implement the code to find the second largest number in a given list of integers\n",
    "list1=[11,12,88,45,98]\n",
    "list1.sort()\n",
    "print(\"second largest number:\",list1[-2])"
   ]
  },
  {
   "cell_type": "code",
   "execution_count": null,
   "id": "c564b9cc-3859-4718-a76d-5ea80b7d738b",
   "metadata": {},
   "outputs": [],
   "source": [
    "#Create a code to count the occurrences of each element in the list and return a dictionary with elements as keys and their count as values\n",
    "\n"
   ]
  },
  {
   "cell_type": "code",
   "execution_count": null,
   "id": "86339dc2-cb11-43cf-a652-3b081c9812db",
   "metadata": {},
   "outputs": [],
   "source": [
    "# Write a code to reverse a list in-place without using in built-in reverse function\n",
    "\n",
    "list2=[1,3,\"hello\",4,8,True,2.90,\"hii\"]\n"
   ]
  },
  {
   "cell_type": "code",
   "execution_count": 1,
   "id": "f13cb1d7-8b59-41a4-8b2d-a16e7e76c507",
   "metadata": {},
   "outputs": [
    {
     "name": "stdout",
     "output_type": "stream",
     "text": [
      "orginal list: [1, 4, 5, 6, 1, 3, 4, 6]\n",
      "after removing duplicate elements: [1, 3, 4, 5, 6]\n"
     ]
    }
   ],
   "source": [
    "# Implement a code to find and remove duplicates from a list while preserving the original order of elements\n",
    "\n",
    "list_1=[1,4,5,6,1,3,4,6]\n",
    "print(\"orginal list:\",list_1)\n",
    "list_2= list(set(list_1))\n",
    "print(\"after removing duplicate elements:\",list_2)"
   ]
  },
  {
   "cell_type": "code",
   "execution_count": 1,
   "id": "449efedf-fc9b-475e-a075-27833643e1f1",
   "metadata": {},
   "outputs": [
    {
     "name": "stdout",
     "output_type": "stream",
     "text": [
      "list is in descending order [98, 88, 56, 34, 22]\n"
     ]
    }
   ],
   "source": [
    "#Create a code to check if a given list is sorted (either in ascending or descending order) or not\n",
    "lis=[98,88,56,34,22]\n",
    "if lis==sorted(lis):\n",
    "    print(\"list is in ascending order\",lis)\n",
    "else:\n",
    "    print(\"list is in descending order\",lis)\n"
   ]
  },
  {
   "cell_type": "code",
   "execution_count": 5,
   "id": "1fbb5030-a9f1-4787-a02b-9a4eb756699c",
   "metadata": {},
   "outputs": [
    {
     "data": {
      "text/plain": [
       "[0, 1, 2, 3, 4, 5, 6, 7, 8, 9]"
      ]
     },
     "execution_count": 5,
     "metadata": {},
     "output_type": "execute_result"
    }
   ],
   "source": [
    "# Write code to merge two sorted lists into a single sorted lists.\n",
    "lis1=[1,2,3,4,5]\n",
    "lis2=[6,7,8,9,0]\n",
    "merge_lists=lis1+lis2\n",
    "merge_lists.sort()\n",
    "merge_lists"
   ]
  },
  {
   "cell_type": "code",
   "execution_count": 30,
   "id": "c9733a71-1f08-4b99-9126-d2d59fefd07b",
   "metadata": {},
   "outputs": [
    {
     "data": {
      "text/plain": [
       "[3, 4, 5]"
      ]
     },
     "execution_count": 30,
     "metadata": {},
     "output_type": "execute_result"
    }
   ],
   "source": [
    "#Implement a code to find the intersection of two given lists\n",
    "x=[1,2,3,4,5]\n",
    "y=[6,3,4,5,9]\n",
    "set1=set(x)\n",
    "set2=set(y)\n",
    "intersection=list(set1&set2)\n",
    "intersection"
   ]
  },
  {
   "cell_type": "code",
   "execution_count": 32,
   "id": "f31aa0c0-7946-4a90-ba46-ba58bca71ecc",
   "metadata": {},
   "outputs": [
    {
     "data": {
      "text/plain": [
       "[1, 2, 3, 4, 5, 7, 9]"
      ]
     },
     "execution_count": 32,
     "metadata": {},
     "output_type": "execute_result"
    }
   ],
   "source": [
    "#Create a code to find the union of two lists without duplicates\n",
    "x1=[1,2,3,2,5]\n",
    "x2=[4,2,7,1,9]\n",
    "set1=set(x1)\n",
    "set2=set(x2)\n",
    "union=list(set1|set2)\n",
    "union"
   ]
  },
  {
   "cell_type": "code",
   "execution_count": null,
   "id": "cae69d79-645c-4790-a6e5-cc0f61c351b4",
   "metadata": {},
   "outputs": [],
   "source": [
    "#Write a code to shuffle a given list randomly without using built-in shuffle fun%tions\n",
    "lis0=[1,2,3,4,5,6,7,8,9]\n",
    "lis=[]\n"
   ]
  },
  {
   "cell_type": "code",
   "execution_count": 5,
   "id": "e077a902-2107-4dd0-a6a1-493707c41edd",
   "metadata": {},
   "outputs": [],
   "source": [
    "#Write code that takes two tuples as input and returns a new tuple containing elements that are common to both input tuples\n",
    "tup1=(1,2,3,6,9,4)\n",
    "tup2=(2,0,6,4,1,5)\n",
    "x=set(tup1)\n",
    "y=set(tup2)\n",
    "z=list(x & y)\n"
   ]
  },
  {
   "cell_type": "code",
   "execution_count": 6,
   "id": "9040e4fd-3d73-4881-8772-31f8c24750dc",
   "metadata": {},
   "outputs": [
    {
     "data": {
      "text/plain": [
       "[1, 2, 4, 6]"
      ]
     },
     "execution_count": 6,
     "metadata": {},
     "output_type": "execute_result"
    }
   ],
   "source": [
    "z"
   ]
  },
  {
   "cell_type": "code",
   "execution_count": 16,
   "id": "58a48108-0bfd-4d43-94d9-8098bf5a1085",
   "metadata": {},
   "outputs": [
    {
     "name": "stdin",
     "output_type": "stream",
     "text": [
      "Enter the elements for set 1:  1,2,3,4,5\n",
      "Enter the elements for set 2:  4,5,6,7,1\n"
     ]
    },
    {
     "name": "stdout",
     "output_type": "stream",
     "text": [
      "intersection = {1, 4, 5}\n"
     ]
    }
   ],
   "source": [
    "#Create a code that prompts the user to enter two sets of integers separated bycommas.Then, print the intersection of these two sets\n",
    "set1_input = input(\"Enter the elements for set 1: \")\n",
    "set1 = set(map(int, set1_input.split(',')))\n",
    "set2_input = input(\"Enter the elements for set 2: \")\n",
    "set2 = set(map(int, set2_input.split(',')))\n",
    "intersection = set1 & set2\n",
    "print(\"intersection =\", intersection)"
   ]
  },
  {
   "cell_type": "code",
   "execution_count": 18,
   "id": "75479910-e5e9-4325-a6a9-c0032453929b",
   "metadata": {},
   "outputs": [
    {
     "data": {
      "text/plain": [
       "(1, 2, 3, 4, 5, 6)"
      ]
     },
     "execution_count": 18,
     "metadata": {},
     "output_type": "execute_result"
    }
   ],
   "source": [
    "# Write code to concatenate two tuples. The function should take two tuples as input and return a newtuple containing elements from both input tuples.\n",
    "def concat_tuples(tuple1,tuple2):\n",
    "    return tuple1+tuple2\n",
    "tuple1=(1,2,3)\n",
    "tuple2=(4,5,6)\n",
    "concat_tuples(tuple1,tuple2)"
   ]
  },
  {
   "cell_type": "code",
   "execution_count": 20,
   "id": "5fa0c451-242f-4421-882e-ea31ea78fe87",
   "metadata": {},
   "outputs": [
    {
     "name": "stdin",
     "output_type": "stream",
     "text": [
      "Enter the elements for set 1:  1,2,3,4,5\n",
      "Enter the elements for set 2:  1,2,4,8,9\n"
     ]
    },
    {
     "name": "stdout",
     "output_type": "stream",
     "text": [
      "result = {3, 5}\n"
     ]
    }
   ],
   "source": [
    "#Develop a code that prompts the user to input two sets of strings. Then print the elements that are present in thecfirst set but not in the second set.\n",
    "set1_input = input(\"Enter the elements for set 1: \")\n",
    "set1 = set(map(int, set1_input.split(',')))\n",
    "set2_input = input(\"Enter the elements for set 2: \")\n",
    "set2 = set(map(int, set2_input.split(',')))\n",
    "z = set1 -  set2\n",
    "print(\"result =\", z)"
   ]
  },
  {
   "cell_type": "code",
   "execution_count": null,
   "id": "0cae5b45-adb0-4cda-b113-b78dd9ed7698",
   "metadata": {},
   "outputs": [],
   "source": [
    "# Create a code that takes a tuple and two integers as input. The function should return a new tuple containing elements from the original tuple within the specified range of indices."
   ]
  },
  {
   "cell_type": "code",
   "execution_count": 26,
   "id": "56367ac2-91f9-4b80-b828-5b7e156c66e8",
   "metadata": {},
   "outputs": [
    {
     "name": "stdin",
     "output_type": "stream",
     "text": [
      "Enter the char for set 1:  a,b,c,d\n",
      "Enter the char for set 2:  e,f,g,h\n"
     ]
    },
    {
     "name": "stdout",
     "output_type": "stream",
     "text": [
      "result = {'e', 'g', 'h', 'c', 'd', 'f', 'a', 'b'}\n"
     ]
    }
   ],
   "source": [
    "# Write a code that prompts the user to input two sets of characters. Then print the union of these two sets\n",
    "set1_input = input(\"Enter the char for set 1: \")\n",
    "set1 = set(set1_input.split(','))\n",
    "set2_input = input(\"Enter the char for set 2: \")\n",
    "set2 = set(set2_input.split(','))\n",
    "z = set1 | set2\n",
    "print(\"result =\", z)\n"
   ]
  },
  {
   "cell_type": "code",
   "execution_count": 32,
   "id": "1f0827d4-af1c-4de6-b2e9-79c151a6fdeb",
   "metadata": {},
   "outputs": [
    {
     "name": "stdout",
     "output_type": "stream",
     "text": [
      "max min\n"
     ]
    },
    {
     "data": {
      "text/plain": [
       "(77, 11)"
      ]
     },
     "execution_count": 32,
     "metadata": {},
     "output_type": "execute_result"
    }
   ],
   "source": [
    "# Develop a code that takes of integers as input. The function should not return the maximum and minimum values from the tuple using tuple unpacking\n",
    "def max_min(t):\n",
    "    max_value=max(t)\n",
    "    min_value=min(t)\n",
    "    return max_value,min_value\n",
    "t=(11,55,77,25,56)\n",
    "print(\"max\",\"min\")\n",
    "max_min(t)    "
   ]
  },
  {
   "cell_type": "code",
   "execution_count": 34,
   "id": "c8ffc713-4b90-4841-a373-fcc375a6b4ac",
   "metadata": {},
   "outputs": [
    {
     "name": "stdout",
     "output_type": "stream",
     "text": [
      "union= {1, 2, 3, 4, 5, 6, 7, 9}\n",
      "intersection= {1, 5}\n",
      "difference= {2, 3, 6}\n"
     ]
    }
   ],
   "source": [
    "#Create a code that defines two sets of integers. Then print the union intersection and difference of these two sets\n",
    "set1={1,2,3,5,6}\n",
    "set2={1,4,5,7,9}\n",
    "print(\"union=\",set1 | set2)\n",
    "print(\"intersection=\",set1 & set2)\n",
    "print(\"difference=\",set1-set2)"
   ]
  },
  {
   "cell_type": "code",
   "execution_count": 40,
   "id": "20eb5c92-87a1-442a-89a2-4b37df65e265",
   "metadata": {},
   "outputs": [
    {
     "name": "stdout",
     "output_type": "stream",
     "text": [
      "The count of occurences of element 2 in given tuple is: 3\n"
     ]
    }
   ],
   "source": [
    "#Write code that takes a tuple and an element as input.The function should return the count of occurrences of the given element in the tuples\n",
    "def count_occurences(tup,element):\n",
    "    return tup.count(element)\n",
    "tup=(1,2,3,5,2,6,2)\n",
    "element=2\n",
    "print(\"The count of occurences of element 2 in given tuple is:\",count_occurences(tup,element))\n"
   ]
  },
  {
   "cell_type": "code",
   "execution_count": 45,
   "id": "25e7fd96-db2c-4b9f-99f8-2a75ec7386d6",
   "metadata": {},
   "outputs": [
    {
     "name": "stdout",
     "output_type": "stream",
     "text": [
      "the symmetric difference= {1, 4, 5, 7, 9}\n"
     ]
    }
   ],
   "source": [
    "#Develop a code that prompts the user to input two sets of strings. Then print the symmentric difference of two elements of these two sets.\n",
    "s1={1,2,3,2,5}\n",
    "s2={4,2,7,3,9}\n",
    "symmetric_diff=s1 ^ s2\n",
    "print(\"the symmetric difference=\",symmetric_diff)\n"
   ]
  },
  {
   "cell_type": "code",
   "execution_count": 50,
   "id": "23018f8d-c000-4cb2-9a2f-95035725d2a6",
   "metadata": {},
   "outputs": [
    {
     "name": "stdout",
     "output_type": "stream",
     "text": [
      "{'a': 2, 'd': 2, 'c': 1}\n"
     ]
    }
   ],
   "source": [
    "#Write a code that takes a list of words as input and returns a dictionary where the keys are unique words and the values are the frequencies of those words in the input list.\n",
    "lis1=[\"a\",\"d\",\"c\",\"d\",\"a\"]\n",
    "dict={}\n",
    "for i in lis1:\n",
    "    if i in dict:\n",
    "        dict[i]+=1\n",
    "    else:\n",
    "        dict[i]=1\n",
    "        \n",
    "print(dict)\n",
    "   \n",
    "    \n",
    "    "
   ]
  },
  {
   "cell_type": "code",
   "execution_count": null,
   "id": "58ecc41a-0010-457c-a0f3-ede3ffe1365f",
   "metadata": {},
   "outputs": [],
   "source": []
  }
 ],
 "metadata": {
  "kernelspec": {
   "display_name": "Python 3 (ipykernel)",
   "language": "python",
   "name": "python3"
  },
  "language_info": {
   "codemirror_mode": {
    "name": "ipython",
    "version": 3
   },
   "file_extension": ".py",
   "mimetype": "text/x-python",
   "name": "python",
   "nbconvert_exporter": "python",
   "pygments_lexer": "ipython3",
   "version": "3.10.8"
  }
 },
 "nbformat": 4,
 "nbformat_minor": 5
}
